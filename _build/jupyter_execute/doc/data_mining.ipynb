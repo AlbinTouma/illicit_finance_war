{
 "cells": [
  {
   "cell_type": "markdown",
   "id": "4523ddd7",
   "metadata": {},
   "source": [
    "# Data Collection\n",
    "\n",
    "Gathering data on illicit finance and war is a huge undertaking. Individuals behind business networks often hide behind opaque ownership structures.\n",
    "\n",
    "Our success depends on a <mark>'go big or go home'</mark> approach to data ingestion and analysis. As such, our approach is to collect intelligence from as many sources as possible, starting with public data sets."
   ]
  }
 ],
 "metadata": {
  "jupytext": {
   "formats": "md:myst",
   "text_representation": {
    "extension": ".md",
    "format_name": "myst",
    "format_version": 0.13,
    "jupytext_version": "1.11.5"
   }
  },
  "kernelspec": {
   "display_name": "Python 3",
   "language": "python",
   "name": "python3"
  },
  "language_info": {
   "codemirror_mode": {
    "name": "ipython",
    "version": 3
   },
   "file_extension": ".py",
   "mimetype": "text/x-python",
   "name": "python",
   "nbconvert_exporter": "python",
   "pygments_lexer": "ipython3",
   "version": "3.11.7"
  },
  "source_map": [
   13
  ]
 },
 "nbformat": 4,
 "nbformat_minor": 5
}